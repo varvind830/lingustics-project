{
 "cells": [
  {
   "cell_type": "code",
   "execution_count": 1,
   "metadata": {},
   "outputs": [
    {
     "name": "stderr",
     "output_type": "stream",
     "text": [
      "C:\\Users\\lyonsl2\\AppData\\Local\\Packages\\PythonSoftwareFoundation.Python.3.9_qbz5n2kfra8p0\\LocalCache\\local-packages\\Python39\\site-packages\\numpy\\_distributor_init.py:30: UserWarning: loaded more than 1 DLL from .libs:\n",
      "C:\\Users\\lyonsl2\\AppData\\Local\\Packages\\PythonSoftwareFoundation.Python.3.9_qbz5n2kfra8p0\\LocalCache\\local-packages\\Python39\\site-packages\\numpy\\.libs\\libopenblas.FB5AE2TYXYH2IJRDKGDGQ3XBKLKTF43H.gfortran-win_amd64.dll\n",
      "C:\\Users\\lyonsl2\\AppData\\Local\\Packages\\PythonSoftwareFoundation.Python.3.9_qbz5n2kfra8p0\\LocalCache\\local-packages\\Python39\\site-packages\\numpy\\.libs\\libopenblas64__v0.3.21-gcc_10_3_0.dll\n",
      "  warnings.warn(\"loaded more than 1 DLL from .libs:\"\n",
      "C:\\Users\\lyonsl2\\AppData\\Local\\Packages\\PythonSoftwareFoundation.Python.3.9_qbz5n2kfra8p0\\LocalCache\\local-packages\\Python39\\site-packages\\scipy\\__init__.py:146: UserWarning: A NumPy version >=1.16.5 and <1.23.0 is required for this version of SciPy (detected version 1.24.2\n",
      "  warnings.warn(f\"A NumPy version >={np_minversion} and <{np_maxversion}\"\n"
     ]
    }
   ],
   "source": [
    "from itertools import chain\n",
    "import pandas as pd\n",
    "from sklearn.metrics import make_scorer\n",
    "from sklearn.model_selection import cross_val_score\n",
    "from sklearn.model_selection import RandomizedSearchCV\n",
    "import numpy as np\n",
    "from sklearn.neighbors import KNeighborsClassifier\n",
    "from sklearn.metrics import jaccard_score\n",
    "import matplotlib.pyplot as plt\n",
    "import seaborn as sns\n",
    "\n",
    "# Read the data\n",
    "def read_data():\n",
    "    \n",
    "    data = pd.read_csv(\"dataframe.csv\")\n",
    "    data[\"dependencies\"].fillna(\"\", inplace=True)\n",
    "    data[\"relevant_dependencies\"].fillna(\"\", inplace=True)\n",
    "    data[\"dependencies\"] = data[\"dependencies\"].apply(lambda x: x.split(\"),\"))\n",
    "    data[\"relevant_dependencies\"] = data[\"relevant_dependencies\"].apply(lambda x: x.split(\"),\"))\n",
    "    data.drop('recommended_exclusion', axis=1, inplace=True)\n",
    "    data.drop('sentence_id', axis=1, inplace=True)\n",
    "    \n",
    "    return data\n",
    "\n",
    "#fixes some bad rows and seperates data into train and test - note the seperation is not random, it should be.\n",
    "#dependency collumns are split into rough lists for future\n",
    "data = read_data()\n",
    "\n",
    "def process_data(data):\n",
    "    dataset = []\n",
    "    feature_set = []\n",
    "    for i, (position, word, gerund, tags, dependencies, relDependencies, sentence) in data.iterrows():\n",
    "        feature_set.append(gerund)\n",
    "        feature_set.append(word)    \n",
    "        deps = []\n",
    "        for dependency in relDependencies:\n",
    "            if len(dependency.split())<3:\n",
    "                continue\n",
    "            id = dependency.split()[0]\n",
    "            w1 = dependency.split()[1][1:-1].split(\"-\")[0]\n",
    "            p1 = dependency.split()[1][1:-1].split(\"-\")[1]\n",
    "            w2 = dependency.split()[2].split(\"-\")[0]\n",
    "            p2 = dependency.split()[2].split(\"-\")[1]\n",
    "            organized_dependency = (id, w1, p1, w2, p2)\n",
    "            deps.append(organized_dependency)\n",
    "        feature_set.append(deps)\n",
    "        feature_set.append(sentence)\n",
    "        dataset.append(feature_set)\n",
    "        feature_set = []\n",
    "    return dataset\n",
    "\n",
    "p_data = pd.DataFrame(process_data(data))"
   ]
  },
  {
   "cell_type": "code",
   "execution_count": 2,
   "metadata": {},
   "outputs": [],
   "source": [
    "p_data.columns = ['type', 'gerund', 'rel_deps', 'sentence']"
   ]
  },
  {
   "cell_type": "code",
   "execution_count": 3,
   "metadata": {},
   "outputs": [],
   "source": [
    "def count(dep, x):\n",
    "    sum = 0\n",
    "    for t in x:\n",
    "        if t[0] == dep:\n",
    "            sum += 1\n",
    "    return sum\n",
    "\n",
    "def countGerund(dep, x):\n",
    "    sum = 0\n",
    "    for t in x:\n",
    "        if t[0] == dep and (t[1].endswith('ing') or t[3].endswith('ing')):\n",
    "            sum += 1\n",
    "    return sum\n",
    "\n",
    "def countCC(x):\n",
    "    return count('cc', x)\n",
    "def countConj(x):\n",
    "    return count('conj', x)\n",
    "def countPunct(x):\n",
    "    return count('punct', x)\n",
    "\n",
    "def countGerundCC(x):\n",
    "    return countGerund('cc', x)\n",
    "def countGerundConj(x):\n",
    "    return countGerund('conj', x)\n",
    "def countGerundPunct(x):\n",
    "    return countGerund('punct', x)\n"
   ]
  },
  {
   "cell_type": "code",
   "execution_count": 4,
   "metadata": {},
   "outputs": [],
   "source": [
    "p_data['num_cc'] = p_data['rel_deps'].apply(countCC)\n",
    "p_data['num_conj'] = p_data['rel_deps'].apply(countConj)\n",
    "p_data['num_punct'] = p_data['rel_deps'].apply(countPunct)\n",
    "p_data['num_gerund_cc'] = p_data['rel_deps'].apply(countGerundCC)\n",
    "p_data['num_gerund_conj'] = p_data['rel_deps'].apply(countGerundConj)\n",
    "p_data['num_gerund_punct'] = p_data['rel_deps'].apply(countGerundPunct)"
   ]
  },
  {
   "cell_type": "code",
   "execution_count": 5,
   "metadata": {},
   "outputs": [
    {
     "data": {
      "text/html": [
       "<div>\n",
       "<style scoped>\n",
       "    .dataframe tbody tr th:only-of-type {\n",
       "        vertical-align: middle;\n",
       "    }\n",
       "\n",
       "    .dataframe tbody tr th {\n",
       "        vertical-align: top;\n",
       "    }\n",
       "\n",
       "    .dataframe thead th {\n",
       "        text-align: right;\n",
       "    }\n",
       "</style>\n",
       "<table border=\"1\" class=\"dataframe\">\n",
       "  <thead>\n",
       "    <tr style=\"text-align: right;\">\n",
       "      <th></th>\n",
       "      <th>type</th>\n",
       "      <th>gerund</th>\n",
       "      <th>rel_deps</th>\n",
       "      <th>sentence</th>\n",
       "      <th>num_cc</th>\n",
       "      <th>num_conj</th>\n",
       "      <th>num_punct</th>\n",
       "      <th>num_gerund_cc</th>\n",
       "      <th>num_gerund_conj</th>\n",
       "      <th>num_gerund_punct</th>\n",
       "    </tr>\n",
       "  </thead>\n",
       "  <tbody>\n",
       "    <tr>\n",
       "      <th>0</th>\n",
       "      <td>vp-ing</td>\n",
       "      <td>hearing</td>\n",
       "      <td>[(xcomp, hearing, 5, remember, 4), (obj, phras...</td>\n",
       "      <td>I do n't remember hearing the phrase \" white g...</td>\n",
       "      <td>0</td>\n",
       "      <td>0</td>\n",
       "      <td>0</td>\n",
       "      <td>0</td>\n",
       "      <td>0</td>\n",
       "      <td>0</td>\n",
       "    </tr>\n",
       "    <tr>\n",
       "      <th>1</th>\n",
       "      <td>vp-ing</td>\n",
       "      <td>Growing</td>\n",
       "      <td>[(advcl, Growing, 1, had, 10), (compound:prt, ...</td>\n",
       "      <td>Growing up black in the 1950s , I never had th...</td>\n",
       "      <td>0</td>\n",
       "      <td>0</td>\n",
       "      <td>0</td>\n",
       "      <td>0</td>\n",
       "      <td>0</td>\n",
       "      <td>0</td>\n",
       "    </tr>\n",
       "    <tr>\n",
       "      <th>2</th>\n",
       "      <td>vp-ing</td>\n",
       "      <td>having</td>\n",
       "      <td>[(conj, irritability, 17, see, 3), (mark, at, ...</td>\n",
       "      <td>I can see now that possibly she was , but then...</td>\n",
       "      <td>0</td>\n",
       "      <td>1</td>\n",
       "      <td>0</td>\n",
       "      <td>0</td>\n",
       "      <td>0</td>\n",
       "      <td>0</td>\n",
       "    </tr>\n",
       "    <tr>\n",
       "      <th>3</th>\n",
       "      <td>vp-ing</td>\n",
       "      <td>feeling</td>\n",
       "      <td>[(xcomp, feeling, 4, remember, 3), (obj, sympa...</td>\n",
       "      <td>I can remember feeling a certain sympathy for ...</td>\n",
       "      <td>0</td>\n",
       "      <td>0</td>\n",
       "      <td>0</td>\n",
       "      <td>0</td>\n",
       "      <td>0</td>\n",
       "      <td>0</td>\n",
       "    </tr>\n",
       "    <tr>\n",
       "      <th>4</th>\n",
       "      <td>vp-ing</td>\n",
       "      <td>drawing</td>\n",
       "      <td>[(advcl, victimizing, 16, feeling, 4), (mark, ...</td>\n",
       "      <td>I can remember feeling a certain sympathy for ...</td>\n",
       "      <td>0</td>\n",
       "      <td>0</td>\n",
       "      <td>0</td>\n",
       "      <td>0</td>\n",
       "      <td>0</td>\n",
       "      <td>0</td>\n",
       "    </tr>\n",
       "    <tr>\n",
       "      <th>...</th>\n",
       "      <td>...</td>\n",
       "      <td>...</td>\n",
       "      <td>...</td>\n",
       "      <td>...</td>\n",
       "      <td>...</td>\n",
       "      <td>...</td>\n",
       "      <td>...</td>\n",
       "      <td>...</td>\n",
       "      <td>...</td>\n",
       "      <td>...</td>\n",
       "    </tr>\n",
       "    <tr>\n",
       "      <th>55054</th>\n",
       "      <td>vp-ing</td>\n",
       "      <td>restraining</td>\n",
       "      <td>[(mark, for, 5, restraining, 6), (acl, restrai...</td>\n",
       "      <td>The main government tools for restraining both...</td>\n",
       "      <td>0</td>\n",
       "      <td>0</td>\n",
       "      <td>0</td>\n",
       "      <td>0</td>\n",
       "      <td>0</td>\n",
       "      <td>0</td>\n",
       "    </tr>\n",
       "    <tr>\n",
       "      <th>55055</th>\n",
       "      <td>vp-ing</td>\n",
       "      <td>restraining</td>\n",
       "      <td>[(mark, In, 1, restraining, 2), (advcl, restra...</td>\n",
       "      <td>In restraining such growth , allocation by pri...</td>\n",
       "      <td>0</td>\n",
       "      <td>0</td>\n",
       "      <td>0</td>\n",
       "      <td>0</td>\n",
       "      <td>0</td>\n",
       "      <td>0</td>\n",
       "    </tr>\n",
       "    <tr>\n",
       "      <th>55056</th>\n",
       "      <td>vp-ing</td>\n",
       "      <td>learning</td>\n",
       "      <td>[(obl, negotiations, 8, allow, 5), (punct, ,, ...</td>\n",
       "      <td>Therefore , change must allow for complex nego...</td>\n",
       "      <td>0</td>\n",
       "      <td>1</td>\n",
       "      <td>1</td>\n",
       "      <td>0</td>\n",
       "      <td>1</td>\n",
       "      <td>1</td>\n",
       "    </tr>\n",
       "    <tr>\n",
       "      <th>55057</th>\n",
       "      <td>vp-ing</td>\n",
       "      <td>creating</td>\n",
       "      <td>[(mark, of, 7, creating, 8), (advcl, creating,...</td>\n",
       "      <td>Political wisdom , therefore , consists of cre...</td>\n",
       "      <td>0</td>\n",
       "      <td>0</td>\n",
       "      <td>0</td>\n",
       "      <td>0</td>\n",
       "      <td>0</td>\n",
       "      <td>0</td>\n",
       "    </tr>\n",
       "    <tr>\n",
       "      <th>55058</th>\n",
       "      <td>vp-ing</td>\n",
       "      <td>supporting</td>\n",
       "      <td>[(xcomp, acknowledge, 5, wishes, 3), (mark, fo...</td>\n",
       "      <td>The author wishes to acknowledge the Anglo-Ger...</td>\n",
       "      <td>0</td>\n",
       "      <td>0</td>\n",
       "      <td>0</td>\n",
       "      <td>0</td>\n",
       "      <td>0</td>\n",
       "      <td>0</td>\n",
       "    </tr>\n",
       "  </tbody>\n",
       "</table>\n",
       "<p>55059 rows × 10 columns</p>\n",
       "</div>"
      ],
      "text/plain": [
       "         type       gerund                                           rel_deps  \\\n",
       "0      vp-ing      hearing  [(xcomp, hearing, 5, remember, 4), (obj, phras...   \n",
       "1      vp-ing      Growing  [(advcl, Growing, 1, had, 10), (compound:prt, ...   \n",
       "2      vp-ing       having  [(conj, irritability, 17, see, 3), (mark, at, ...   \n",
       "3      vp-ing      feeling  [(xcomp, feeling, 4, remember, 3), (obj, sympa...   \n",
       "4      vp-ing      drawing  [(advcl, victimizing, 16, feeling, 4), (mark, ...   \n",
       "...       ...          ...                                                ...   \n",
       "55054  vp-ing  restraining  [(mark, for, 5, restraining, 6), (acl, restrai...   \n",
       "55055  vp-ing  restraining  [(mark, In, 1, restraining, 2), (advcl, restra...   \n",
       "55056  vp-ing     learning  [(obl, negotiations, 8, allow, 5), (punct, ,, ...   \n",
       "55057  vp-ing     creating  [(mark, of, 7, creating, 8), (advcl, creating,...   \n",
       "55058  vp-ing   supporting  [(xcomp, acknowledge, 5, wishes, 3), (mark, fo...   \n",
       "\n",
       "                                                sentence  num_cc  num_conj  \\\n",
       "0      I do n't remember hearing the phrase \" white g...       0         0   \n",
       "1      Growing up black in the 1950s , I never had th...       0         0   \n",
       "2      I can see now that possibly she was , but then...       0         1   \n",
       "3      I can remember feeling a certain sympathy for ...       0         0   \n",
       "4      I can remember feeling a certain sympathy for ...       0         0   \n",
       "...                                                  ...     ...       ...   \n",
       "55054  The main government tools for restraining both...       0         0   \n",
       "55055  In restraining such growth , allocation by pri...       0         0   \n",
       "55056  Therefore , change must allow for complex nego...       0         1   \n",
       "55057  Political wisdom , therefore , consists of cre...       0         0   \n",
       "55058  The author wishes to acknowledge the Anglo-Ger...       0         0   \n",
       "\n",
       "       num_punct  num_gerund_cc  num_gerund_conj  num_gerund_punct  \n",
       "0              0              0                0                 0  \n",
       "1              0              0                0                 0  \n",
       "2              0              0                0                 0  \n",
       "3              0              0                0                 0  \n",
       "4              0              0                0                 0  \n",
       "...          ...            ...              ...               ...  \n",
       "55054          0              0                0                 0  \n",
       "55055          0              0                0                 0  \n",
       "55056          1              0                1                 1  \n",
       "55057          0              0                0                 0  \n",
       "55058          0              0                0                 0  \n",
       "\n",
       "[55059 rows x 10 columns]"
      ]
     },
     "execution_count": 5,
     "metadata": {},
     "output_type": "execute_result"
    }
   ],
   "source": [
    "p_data"
   ]
  },
  {
   "cell_type": "code",
   "execution_count": 6,
   "metadata": {},
   "outputs": [
    {
     "data": {
      "text/plain": [
       "vp-ing         0.756643\n",
       "acc-ing        0.108139\n",
       "ing-of         0.054160\n",
       "det-ing        0.053742\n",
       "poss-ing       0.022685\n",
       "poss-ing-of    0.004631\n",
       "Name: type, dtype: float64"
      ]
     },
     "execution_count": 6,
     "metadata": {},
     "output_type": "execute_result"
    }
   ],
   "source": [
    "p_data['type'].value_counts(normalize=True)"
   ]
  },
  {
   "cell_type": "code",
   "execution_count": 7,
   "metadata": {},
   "outputs": [
    {
     "data": {
      "text/plain": [
       "vp-ing         0.865684\n",
       "ing-of         0.057593\n",
       "acc-ing        0.038661\n",
       "det-ing        0.023715\n",
       "poss-ing       0.010562\n",
       "poss-ing-of    0.003786\n",
       "Name: type, dtype: float64"
      ]
     },
     "execution_count": 7,
     "metadata": {},
     "output_type": "execute_result"
    }
   ],
   "source": [
    "p_data[p_data['num_cc'] > 0]['type'].value_counts(normalize=True)"
   ]
  },
  {
   "cell_type": "code",
   "execution_count": 8,
   "metadata": {},
   "outputs": [
    {
     "data": {
      "text/plain": [
       "vp-ing         0.804588\n",
       "acc-ing        0.078047\n",
       "ing-of         0.049941\n",
       "det-ing        0.042564\n",
       "poss-ing       0.020729\n",
       "poss-ing-of    0.004131\n",
       "Name: type, dtype: float64"
      ]
     },
     "execution_count": 8,
     "metadata": {},
     "output_type": "execute_result"
    }
   ],
   "source": [
    "p_data[p_data['num_conj'] > 0]['type'].value_counts(normalize=True)"
   ]
  },
  {
   "cell_type": "code",
   "execution_count": 9,
   "metadata": {},
   "outputs": [
    {
     "data": {
      "text/plain": [
       "vp-ing         0.855252\n",
       "ing-of         0.049371\n",
       "acc-ing        0.047309\n",
       "det-ing        0.035916\n",
       "poss-ing       0.009983\n",
       "poss-ing-of    0.002170\n",
       "Name: type, dtype: float64"
      ]
     },
     "execution_count": 9,
     "metadata": {},
     "output_type": "execute_result"
    }
   ],
   "source": [
    "p_data[p_data['num_punct'] > 0]['type'].value_counts(normalize=True)"
   ]
  },
  {
   "cell_type": "code",
   "execution_count": 10,
   "metadata": {},
   "outputs": [
    {
     "data": {
      "text/plain": [
       "vp-ing         0.880748\n",
       "ing-of         0.051998\n",
       "acc-ing        0.034809\n",
       "det-ing        0.019768\n",
       "poss-ing       0.008595\n",
       "poss-ing-of    0.004083\n",
       "Name: type, dtype: float64"
      ]
     },
     "execution_count": 10,
     "metadata": {},
     "output_type": "execute_result"
    }
   ],
   "source": [
    "p_data[p_data['num_gerund_cc'] > 0]['type'].value_counts(normalize=True)"
   ]
  },
  {
   "cell_type": "code",
   "execution_count": 11,
   "metadata": {},
   "outputs": [
    {
     "data": {
      "text/plain": [
       "vp-ing         0.833333\n",
       "acc-ing        0.066607\n",
       "ing-of         0.048277\n",
       "det-ing        0.033754\n",
       "poss-ing       0.014123\n",
       "poss-ing-of    0.003906\n",
       "Name: type, dtype: float64"
      ]
     },
     "execution_count": 11,
     "metadata": {},
     "output_type": "execute_result"
    }
   ],
   "source": [
    "p_data[p_data['num_gerund_conj'] > 0]['type'].value_counts(normalize=True)"
   ]
  },
  {
   "cell_type": "code",
   "execution_count": 12,
   "metadata": {},
   "outputs": [
    {
     "data": {
      "text/plain": [
       "vp-ing         0.867680\n",
       "ing-of         0.045506\n",
       "acc-ing        0.043804\n",
       "det-ing        0.033023\n",
       "poss-ing       0.007717\n",
       "poss-ing-of    0.002270\n",
       "Name: type, dtype: float64"
      ]
     },
     "execution_count": 12,
     "metadata": {},
     "output_type": "execute_result"
    }
   ],
   "source": [
    "p_data[p_data['num_gerund_punct'] > 0]['type'].value_counts(normalize=True)"
   ]
  },
  {
   "cell_type": "code",
   "execution_count": 13,
   "metadata": {},
   "outputs": [
    {
     "data": {
      "text/plain": [
       "<AxesSubplot:>"
      ]
     },
     "execution_count": 13,
     "metadata": {},
     "output_type": "execute_result"
    },
    {
     "data": {
      "image/png": "[encoded data removed]",
      "text/plain": [
       "<Figure size 640x480 with 2 Axes>"
      ]
     },
     "metadata": {},
     "output_type": "display_data"
    }
   ],
   "source": [
    "sns.heatmap(p_data.corr())"
   ]
  },
  {
   "cell_type": "code",
   "execution_count": 14,
   "metadata": {},
   "outputs": [
    {
     "data": {
      "text/plain": [
       "'It is obvious that this was a rather shameful encounter for all concerned -- my friend and I , as his silent accomplice , trading on our racial pain , tampering with a stranger for no reason , and the stranger then buying his way out of the situation for twenty dollars , a sum that was generous by one count and cheap by another .'"
      ]
     },
     "execution_count": 14,
     "metadata": {},
     "output_type": "execute_result"
    }
   ],
   "source": [
    "p_data[(p_data['num_gerund_cc'] > 0) & (p_data['num_gerund_conj'] > 0) & (p_data['num_gerund_punct'] > 0)]['sentence'].iloc[0]"
   ]
  }
 ],
 "metadata": {
  "kernelspec": {
   "display_name": "Python 3",
   "language": "python",
   "name": "python3"
  },
  "language_info": {
   "codemirror_mode": {
    "name": "ipython",
    "version": 3
   },
   "file_extension": ".py",
   "mimetype": "text/x-python",
   "name": "python",
   "nbconvert_exporter": "python",
   "pygments_lexer": "ipython3",
   "version": "3.9.13"
  },
  "orig_nbformat": 4
 },
 "nbformat": 4,
 "nbformat_minor": 2
}

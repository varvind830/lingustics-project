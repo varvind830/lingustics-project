{
 "cells": [
  {
   "cell_type": "code",
   "execution_count": 1,
   "id": "19023b77-bbcb-4465-af02-f6a97b3e896b",
   "metadata": {},
   "outputs": [
    {
     "name": "stderr",
     "output_type": "stream",
     "text": [
      "[nltk_data] Downloading package wordnet to\n",
      "[nltk_data]     C:\\Users\\varun\\AppData\\Roaming\\nltk_data...\n",
      "[nltk_data]   Package wordnet is already up-to-date!\n"
     ]
    },
    {
     "data": {
      "text/plain": [
       "True"
      ]
     },
     "execution_count": 1,
     "metadata": {},
     "output_type": "execute_result"
    }
   ],
   "source": [
    "from itertools import chain\n",
    "import pandas as pd\n",
    "import nltk\n",
    "import sklearn\n",
    "import scipy.stats\n",
    "from sklearn.metrics import make_scorer\n",
    "from sklearn.model_selection import cross_val_score\n",
    "from sklearn.model_selection import RandomizedSearchCV\n",
    "import string\n",
    "import sklearn_crfsuite\n",
    "from sklearn_crfsuite import scorers\n",
    "from sklearn_crfsuite import metrics\n",
    "import numpy as np\n",
    "import nltk\n",
    "from sklearn.neighbors import KNeighborsClassifier\n",
    "from sklearn.metrics import jaccard_score\n",
    "nltk.download('wordnet')\n"
   ]
  },
  {
   "cell_type": "code",
   "execution_count": 2,
   "id": "37ab25f5-555e-46cd-8f87-46bc109dff6d",
   "metadata": {},
   "outputs": [],
   "source": [
    "data = pd.read_csv(\"dataframe.csv\")"
   ]
  },
  {
   "cell_type": "code",
   "execution_count": 4,
   "id": "63bbb7a9-3273-4b8e-8563-4a0dba1ef0af",
   "metadata": {},
   "outputs": [],
   "source": [
    "import pandas as pd\n",
    "\n",
    "def extract_context(sentence, connectives=['and', 'but'], num_words=2):\n",
    "    context_df = pd.DataFrame(columns=['Words Before', 'Connective', 'Words After'])\n",
    "    for conn in connectives:\n",
    "        tokens = sentence.split()\n",
    "        try:\n",
    "            pos = tokens.index(conn)\n",
    "        except ValueError:\n",
    "            continue\n",
    "        words_before = ' '.join([t for t in tokens[max(0, pos-num_words):pos] if t.isalpha()]) # .isalpha is checking whether using letters, making sure there aren't any commas\n",
    "        words_after = ' '.join([t for t in tokens[pos+1:min(len(tokens), pos+1+num_words)] if t.isalpha()])\n",
    "        context_df = pd.concat([context_df,\n",
    "                                pd.DataFrame({'Words Before': [words_before],\n",
    "                                              'Connective': [conn],\n",
    "                                              'Words After': [words_after]})],\n",
    "                                ignore_index=True)    \n",
    "    return context_df\n",
    "\n"
   ]
  },
  {
   "cell_type": "markdown",
   "id": "3c55bbea-68d7-4c50-b8b3-037687838109",
   "metadata": {},
   "source": [
    "This code defines a function called extract_context, which takes a sentence as input along with optional parameters for connectives and num_words (the number of words to extract before and after the connective). The function uses the pandas library to create an empty dataframe, then loops through each connective and tokenizes the sentence into words. It then finds the position of the connective, extracts the specified number of words before and after it (excluding punctuation), and appends them to the dataframe. Finally, the function returns the completed dataframe of extracted context words.\n",
    "\n",
    "\n",
    "\n"
   ]
  },
  {
   "cell_type": "code",
   "execution_count": 5,
   "id": "249435a8-6a82-452e-a243-764fd7e896d1",
   "metadata": {},
   "outputs": [],
   "source": [
    "df_sentences = data[['sentence']]\n"
   ]
  },
  {
   "cell_type": "code",
   "execution_count": 6,
   "id": "92b796e5-ffc6-4dfe-aa18-e5b75ab296e4",
   "metadata": {},
   "outputs": [],
   "source": [
    "context_df = pd.concat([extract_context(sentence) for sentence in df_sentences['sentence']])\n"
   ]
  },
  {
   "cell_type": "code",
   "execution_count": 7,
   "id": "41d8a21e-39c6-41ca-b1fa-6cffdd629e93",
   "metadata": {},
   "outputs": [
    {
     "data": {
      "text/html": [
       "<div>\n",
       "<style scoped>\n",
       "    .dataframe tbody tr th:only-of-type {\n",
       "        vertical-align: middle;\n",
       "    }\n",
       "\n",
       "    .dataframe tbody tr th {\n",
       "        vertical-align: top;\n",
       "    }\n",
       "\n",
       "    .dataframe thead th {\n",
       "        text-align: right;\n",
       "    }\n",
       "</style>\n",
       "<table border=\"1\" class=\"dataframe\">\n",
       "  <thead>\n",
       "    <tr style=\"text-align: right;\">\n",
       "      <th></th>\n",
       "      <th>Words Before</th>\n",
       "      <th>Connective</th>\n",
       "      <th>Words After</th>\n",
       "    </tr>\n",
       "  </thead>\n",
       "  <tbody>\n",
       "    <tr>\n",
       "      <th>0</th>\n",
       "      <td>was</td>\n",
       "      <td>but</td>\n",
       "      <td>then all</td>\n",
       "    </tr>\n",
       "    <tr>\n",
       "      <th>0</th>\n",
       "      <td>movement</td>\n",
       "      <td>and</td>\n",
       "      <td>later the</td>\n",
       "    </tr>\n",
       "    <tr>\n",
       "      <th>0</th>\n",
       "      <td>guilt</td>\n",
       "      <td>but</td>\n",
       "      <td>in the</td>\n",
       "    </tr>\n",
       "    <tr>\n",
       "      <th>0</th>\n",
       "      <td>Great Society</td>\n",
       "      <td>and</td>\n",
       "      <td>then to</td>\n",
       "    </tr>\n",
       "    <tr>\n",
       "      <th>0</th>\n",
       "      <td>in housing</td>\n",
       "      <td>and</td>\n",
       "      <td>education</td>\n",
       "    </tr>\n",
       "    <tr>\n",
       "      <th>...</th>\n",
       "      <td>...</td>\n",
       "      <td>...</td>\n",
       "      <td>...</td>\n",
       "    </tr>\n",
       "    <tr>\n",
       "      <th>0</th>\n",
       "      <td>While walking</td>\n",
       "      <td>and</td>\n",
       "      <td>cycling are</td>\n",
       "    </tr>\n",
       "    <tr>\n",
       "      <th>0</th>\n",
       "      <td>car ownership</td>\n",
       "      <td>and</td>\n",
       "      <td>and</td>\n",
       "    </tr>\n",
       "    <tr>\n",
       "      <th>0</th>\n",
       "      <td>learning</td>\n",
       "      <td>and</td>\n",
       "      <td>economic and</td>\n",
       "    </tr>\n",
       "    <tr>\n",
       "      <th>0</th>\n",
       "      <td>not industry</td>\n",
       "      <td>but</td>\n",
       "      <td>a specific</td>\n",
       "    </tr>\n",
       "    <tr>\n",
       "      <th>0</th>\n",
       "      <td>in Britain</td>\n",
       "      <td>and</td>\n",
       "      <td>Germany from</td>\n",
       "    </tr>\n",
       "  </tbody>\n",
       "</table>\n",
       "<p>34971 rows × 3 columns</p>\n",
       "</div>"
      ],
      "text/plain": [
       "     Words Before Connective   Words After\n",
       "0             was        but      then all\n",
       "0        movement        and     later the\n",
       "0           guilt        but        in the\n",
       "0   Great Society        and       then to\n",
       "0      in housing        and     education\n",
       "..            ...        ...           ...\n",
       "0   While walking        and   cycling are\n",
       "0   car ownership        and           and\n",
       "0        learning        and  economic and\n",
       "0    not industry        but    a specific\n",
       "0      in Britain        and  Germany from\n",
       "\n",
       "[34971 rows x 3 columns]"
      ]
     },
     "execution_count": 7,
     "metadata": {},
     "output_type": "execute_result"
    }
   ],
   "source": [
    "context_df"
   ]
  },
  {
   "cell_type": "code",
   "execution_count": 8,
   "id": "ef8f800a-e0bc-42ae-8e29-c2f0feef7d9c",
   "metadata": {},
   "outputs": [
    {
     "name": "stderr",
     "output_type": "stream",
     "text": [
      "C:\\Users\\varun\\anaconda3\\lib\\site-packages\\sklearn\\utils\\deprecation.py:87: FutureWarning: Function get_feature_names is deprecated; get_feature_names is deprecated in 1.0 and will be removed in 1.2. Please use get_feature_names_out instead.\n",
      "  warnings.warn(msg, category=FutureWarning)\n"
     ]
    }
   ],
   "source": [
    "from sklearn.feature_extraction.text import TfidfVectorizer\n",
    "\n",
    "vectorizer = TfidfVectorizer()\n",
    "\n",
    "vectorizer.fit(context_df['Words Before'] + ' ' + context_df['Connective'] + ' ' + context_df['Words After'])\n",
    "\n",
    "vectors = vectorizer.transform(context_df['Words Before'] + ' ' + context_df['Connective'] + ' ' + context_df['Words After'])\n",
    "\n",
    "vector_df = pd.DataFrame(vectors.toarray(), columns=vectorizer.get_feature_names())\n"
   ]
  },
  {
   "cell_type": "markdown",
   "id": "76189e66-fdfb-4109-ac00-0ab11753df74",
   "metadata": {},
   "source": [
    "This code uses the TfidfVectorizer class from the sklearn library to create a vectorizer object that can transform sentences into numerical vectors using the TF-IDF (term frequency-inverse document frequency) algorithm. The fit method is used to fit the vectorizer to the sentences in the context_df dataframe, which contains the context words extracted by the previous code. Then, the transform method is called to convert the sentences into vectors, and the resulting vectors are stored in a dataframe called vector_df. Finally, the column names of the dataframe are set to the feature names returned by the vectorizer's get_feature_names method, which are the words that were used to create the vectorized representation of the sentences.\n",
    "\n",
    "\n",
    "Term frequency (TF): This is the frequency of a word in a document, normalized by the total number of words in that document. The idea is that a word that appears frequently in a document is more important than a word that appears only once.\n",
    "\n",
    "Inverse document frequency (IDF): This is a measure of how rare a word is across all documents in the collection. The IDF of a word is calculated by taking the logarithm of the total number of documents in the collection divided by the number of documents that contain the word. The idea is that a word that appears in many documents is less important than a word that appears in few documents.\n",
    "\n",
    "\n"
   ]
  },
  {
   "cell_type": "code",
   "execution_count": 18,
   "id": "80f1c3fa-b996-4897-affb-c69de1c2e426",
   "metadata": {},
   "outputs": [],
   "source": [
    "from sklearn.cluster import KMeans\n",
    "\n",
    "kmeans = KMeans(n_clusters=5)\n",
    "\n",
    "kmeans.fit(vectors)\n",
    "\n",
    "context_df['Cluster'] = kmeans.labels_\n"
   ]
  },
  {
   "cell_type": "code",
   "execution_count": 19,
   "id": "be93d418-1689-407d-a5cc-704364342f5b",
   "metadata": {},
   "outputs": [
    {
     "data": {
      "text/html": [
       "<div>\n",
       "<style scoped>\n",
       "    .dataframe tbody tr th:only-of-type {\n",
       "        vertical-align: middle;\n",
       "    }\n",
       "\n",
       "    .dataframe tbody tr th {\n",
       "        vertical-align: top;\n",
       "    }\n",
       "\n",
       "    .dataframe thead th {\n",
       "        text-align: right;\n",
       "    }\n",
       "</style>\n",
       "<table border=\"1\" class=\"dataframe\">\n",
       "  <thead>\n",
       "    <tr style=\"text-align: right;\">\n",
       "      <th></th>\n",
       "      <th>Words Before</th>\n",
       "      <th>Connective</th>\n",
       "      <th>Words After</th>\n",
       "      <th>Cluster</th>\n",
       "    </tr>\n",
       "  </thead>\n",
       "  <tbody>\n",
       "    <tr>\n",
       "      <th>0</th>\n",
       "      <td>was</td>\n",
       "      <td>but</td>\n",
       "      <td>then all</td>\n",
       "      <td>2</td>\n",
       "    </tr>\n",
       "    <tr>\n",
       "      <th>0</th>\n",
       "      <td>movement</td>\n",
       "      <td>and</td>\n",
       "      <td>later the</td>\n",
       "      <td>3</td>\n",
       "    </tr>\n",
       "    <tr>\n",
       "      <th>0</th>\n",
       "      <td>guilt</td>\n",
       "      <td>but</td>\n",
       "      <td>in the</td>\n",
       "      <td>0</td>\n",
       "    </tr>\n",
       "    <tr>\n",
       "      <th>0</th>\n",
       "      <td>Great Society</td>\n",
       "      <td>and</td>\n",
       "      <td>then to</td>\n",
       "      <td>4</td>\n",
       "    </tr>\n",
       "    <tr>\n",
       "      <th>0</th>\n",
       "      <td>in housing</td>\n",
       "      <td>and</td>\n",
       "      <td>education</td>\n",
       "      <td>0</td>\n",
       "    </tr>\n",
       "    <tr>\n",
       "      <th>...</th>\n",
       "      <td>...</td>\n",
       "      <td>...</td>\n",
       "      <td>...</td>\n",
       "      <td>...</td>\n",
       "    </tr>\n",
       "    <tr>\n",
       "      <th>0</th>\n",
       "      <td>While walking</td>\n",
       "      <td>and</td>\n",
       "      <td>cycling are</td>\n",
       "      <td>4</td>\n",
       "    </tr>\n",
       "    <tr>\n",
       "      <th>0</th>\n",
       "      <td>car ownership</td>\n",
       "      <td>and</td>\n",
       "      <td>and</td>\n",
       "      <td>4</td>\n",
       "    </tr>\n",
       "    <tr>\n",
       "      <th>0</th>\n",
       "      <td>learning</td>\n",
       "      <td>and</td>\n",
       "      <td>economic and</td>\n",
       "      <td>4</td>\n",
       "    </tr>\n",
       "    <tr>\n",
       "      <th>0</th>\n",
       "      <td>not industry</td>\n",
       "      <td>but</td>\n",
       "      <td>a specific</td>\n",
       "      <td>2</td>\n",
       "    </tr>\n",
       "    <tr>\n",
       "      <th>0</th>\n",
       "      <td>in Britain</td>\n",
       "      <td>and</td>\n",
       "      <td>Germany from</td>\n",
       "      <td>0</td>\n",
       "    </tr>\n",
       "  </tbody>\n",
       "</table>\n",
       "<p>34971 rows × 4 columns</p>\n",
       "</div>"
      ],
      "text/plain": [
       "     Words Before Connective   Words After  Cluster\n",
       "0             was        but      then all        2\n",
       "0        movement        and     later the        3\n",
       "0           guilt        but        in the        0\n",
       "0   Great Society        and       then to        4\n",
       "0      in housing        and     education        0\n",
       "..            ...        ...           ...      ...\n",
       "0   While walking        and   cycling are        4\n",
       "0   car ownership        and           and        4\n",
       "0        learning        and  economic and        4\n",
       "0    not industry        but    a specific        2\n",
       "0      in Britain        and  Germany from        0\n",
       "\n",
       "[34971 rows x 4 columns]"
      ]
     },
     "execution_count": 19,
     "metadata": {},
     "output_type": "execute_result"
    }
   ],
   "source": [
    "context_df"
   ]
  },
  {
   "cell_type": "code",
   "execution_count": 26,
   "id": "c2d876fb-2895-4627-8026-0674888fde76",
   "metadata": {},
   "outputs": [
    {
     "name": "stdout",
     "output_type": "stream",
     "text": [
      "   Cluster  count\n",
      "0        0   1783\n",
      "1        1   3305\n",
      "2        2   2913\n",
      "3        3   4961\n",
      "4        4  22009\n"
     ]
    }
   ],
   "source": [
    "import pandas as pd\n",
    "\n",
    "cluster_counts = context_df.groupby('Cluster').size().reset_index(name='count')\n",
    "print(cluster_counts)\n"
   ]
  },
  {
   "cell_type": "code",
   "execution_count": 28,
   "id": "cbfe3eef-b28b-4547-9480-66bfc3fd007d",
   "metadata": {},
   "outputs": [
    {
     "data": {
      "image/png": "[encoded data removed]",
      "text/plain": [
       "<Figure size 640x480 with 1 Axes>"
      ]
     },
     "metadata": {},
     "output_type": "display_data"
    }
   ],
   "source": [
    "import matplotlib.pyplot as plt\n",
    "\n",
    "cluster_counts.plot(kind='bar', x='Cluster', y='count', legend=None)\n",
    "plt.title('Distribution of Clusters')\n",
    "plt.xlabel('Cluster')\n",
    "plt.ylabel('Count')\n",
    "plt.show()\n"
   ]
  },
  {
   "cell_type": "code",
   "execution_count": 31,
   "id": "91e81beb-47da-4b4a-8c28-ea9b393e7c07",
   "metadata": {},
   "outputs": [
    {
     "name": "stdout",
     "output_type": "stream",
     "text": [
      "Cluster 0\n",
      "[('in', 1819), ('and', 1643), ('the', 172), ('but', 151), ('of', 106), ('a', 48), ('their', 34), ('for', 30), ('to', 30), ('also', 24)]\n",
      "Cluster 1\n",
      "[('of', 3373), ('and', 3340), ('the', 691), ('a', 75), ('to', 63), ('that', 47), ('teaching', 43), ('The', 42), ('as', 39), ('learning', 38)]\n",
      "Cluster 2\n",
      "[('but', 2912), ('the', 431), ('also', 258), ('it', 197), ('not', 186), ('a', 183), ('is', 170), ('to', 168), ('of', 124), ('rather', 107)]\n",
      "Cluster 3\n",
      "[('the', 5293), ('and', 4948), ('to', 193), ('The', 128), ('that', 115), ('a', 71), ('their', 68), ('its', 67), ('at', 57), ('by', 57)]\n",
      "Cluster 4\n",
      "[('and', 22221), ('to', 1408), ('a', 981), ('for', 770), ('that', 572), ('by', 538), ('their', 464), ('with', 462), ('are', 446), ('on', 430)]\n"
     ]
    }
   ],
   "source": [
    "import nltk\n",
    "\n",
    "def get_most_common_words(cluster):\n",
    "    tokens = []\n",
    "    for index, row in context_df.iterrows():\n",
    "        if row['Cluster'] == cluster:\n",
    "            tokens += nltk.word_tokenize(row['Words Before'] + ' ' + row['Connective'] + ' ' + row['Words After'])\n",
    "    fdist = nltk.FreqDist(tokens)\n",
    "    return fdist.most_common(10)\n",
    "\n",
    "for i in range(5):\n",
    "    print('Cluster', i)\n",
    "    print(get_most_common_words(i))\n"
   ]
  }
 ],
 "metadata": {
  "kernelspec": {
   "display_name": "Python 3 (ipykernel)",
   "language": "python",
   "name": "python3"
  },
  "language_info": {
   "codemirror_mode": {
    "name": "ipython",
    "version": 3
   },
   "file_extension": ".py",
   "mimetype": "text/x-python",
   "name": "python",
   "nbconvert_exporter": "python",
   "pygments_lexer": "ipython3",
   "version": "3.9.13"
  }
 },
 "nbformat": 4,
 "nbformat_minor": 5
}
